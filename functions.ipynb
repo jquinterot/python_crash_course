{
 "cells": [
  {
   "cell_type": "code",
   "execution_count": 5,
   "metadata": {},
   "outputs": [
    {
     "name": "stdout",
     "output_type": "stream",
     "text": [
      "Hello Joha\n",
      "6\n"
     ]
    }
   ],
   "source": [
    "def test_function(name):\n",
    "    print(\"Hello \" + name)\n",
    "\n",
    "test_function(\"Joha\")\n",
    "\n",
    "def sum_two_parameters(num1, num2):\n",
    "    return num1 + num2\n",
    "\n",
    "result = sum_two_parameters(2,4)\n",
    "print(result)"
   ]
  }
 ],
 "metadata": {
  "kernelspec": {
   "display_name": "base",
   "language": "python",
   "name": "python3"
  },
  "language_info": {
   "codemirror_mode": {
    "name": "ipython",
    "version": 3
   },
   "file_extension": ".py",
   "mimetype": "text/x-python",
   "name": "python",
   "nbconvert_exporter": "python",
   "pygments_lexer": "ipython3",
   "version": "3.7.3"
  }
 },
 "nbformat": 4,
 "nbformat_minor": 2
}
